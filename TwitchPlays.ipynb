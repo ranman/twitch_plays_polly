{
 "cells": [
  {
   "cell_type": "code",
   "execution_count": null,
   "metadata": {},
   "outputs": [
    {
     "name": "stdout",
     "output_type": "stream",
     "text": [
      "True\n"
     ]
    }
   ],
   "source": [
    "import pprint\n",
    "import irc.client\n",
    "import time\n",
    "import pyaudio\n",
    "import boto3\n",
    "polly = boto3.client('polly')\n",
    "p = pyaudio.PyAudio()\n",
    "\n",
    "VALID_COMMANDS = [\n",
    "    'MOUSE UP',\n",
    "    'MOUSE DOWN',\n",
    "    'MOUSE LEFT',\n",
    "    'MOUSE RIGHT',\n",
    "    'CLICK',\n",
    "    'RIGHT CLICK'\n",
    "]\n",
    "\n",
    "votes = {command: 0 for command in VALID_COMMANDS}\n",
    "voted = []\n",
    "\n",
    "restart = time.time() + 10\n",
    "\n",
    "def speak_winner(winner):\n",
    "    text = \"The winning command was: \" + winner\n",
    "    resp = polly.synthesize_speech(Text=text, TextType=\"text\", OutputFormat=\"pcm\", VoiceId='Brian')\n",
    "    stream = p.open(format=p.get_format_from_width(width=2), channels=1, rate=16000, output=True)\n",
    "    stream.write(resp['AudioStream'].read())\n",
    "    stream.stop_stream()\n",
    "    stream.close()\n",
    "\n",
    "def chat_handler(connection, event):\n",
    "    global restart\n",
    "    global voted\n",
    "    global votes\n",
    "    if time.time() > restart:\n",
    "        winner = (\"CLICK\", 0)\n",
    "        for command, votes in votes.items():\n",
    "            if votes > winner[1]:\n",
    "                winner = (command, votes)\n",
    "        restart = time.time() + 10\n",
    "        votes = {command: 0 for command in VALID_COMMANDS}\n",
    "        voted = []\n",
    "        speak_winner(winner[0])\n",
    "    if event.source not in voted and event.arguments[0].upper() in VALID_COMMANDS:\n",
    "        votes[event.arguments[0].upper()] += 1\n",
    "        voted.append(event.source)\n",
    "\n",
    "    \n",
    "client = irc.client.Reactor()\n",
    "client.add_global_handler('pubmsg', chat_handler)\n",
    "server = client.server()\n",
    "server.connect(\"irc.chat.twitch.tv\", 6667, \"justinfan1234\")\n",
    "server.join('#aws')\n",
    "print server.is_connected()\n",
    "client.process_forever()"
   ]
  },
  {
   "cell_type": "code",
   "execution_count": 1,
   "metadata": {
    "collapsed": true
   },
   "outputs": [],
   "source": [
    "# MOUSE UP\n",
    "# MOUSE DOWN\n",
    "# MOUSE LEFT\n",
    "# MOUSE RIGHT\n",
    "# CLICK\n",
    "# RIGHT CLICK\n",
    "# KEY A\n",
    "# KEY B\n",
    "# KEY C\n",
    "# ...."
   ]
  },
  {
   "cell_type": "code",
   "execution_count": 2,
   "metadata": {
    "collapsed": true
   },
   "outputs": [],
   "source": [
    "VALID_COMMANDS = [\n",
    "    'MOUSE UP',\n",
    "    'MOUSE DOWN',\n",
    "    'MOUSE LEFT',\n",
    "    'MOUSE RIGHT',\n",
    "    'CLICK',\n",
    "    'RIGHT CLICK'\n",
    "]\n",
    "\n",
    "votes = {command: 0 for command in VALID_COMMANDS}"
   ]
  },
  {
   "cell_type": "code",
   "execution_count": 3,
   "metadata": {},
   "outputs": [
    {
     "data": {
      "text/plain": [
       "{'CLICK': 0,\n",
       " 'MOUSE DOWN': 0,\n",
       " 'MOUSE LEFT': 0,\n",
       " 'MOUSE RIGHT': 0,\n",
       " 'MOUSE UP': 0,\n",
       " 'RIGHT CLICK': 0}"
      ]
     },
     "execution_count": 3,
     "metadata": {},
     "output_type": "execute_result"
    }
   ],
   "source": [
    "votes"
   ]
  },
  {
   "cell_type": "code",
   "execution_count": null,
   "metadata": {
    "collapsed": true
   },
   "outputs": [],
   "source": []
  }
 ],
 "metadata": {
  "kernelspec": {
   "display_name": "Python 2",
   "language": "python",
   "name": "python2"
  },
  "language_info": {
   "codemirror_mode": {
    "name": "ipython",
    "version": 2
   },
   "file_extension": ".py",
   "mimetype": "text/x-python",
   "name": "python",
   "nbconvert_exporter": "python",
   "pygments_lexer": "ipython2",
   "version": "2.7.14"
  }
 },
 "nbformat": 4,
 "nbformat_minor": 2
}
